{
  "nbformat": 4,
  "nbformat_minor": 0,
  "metadata": {
    "colab": {
      "name": "dog_classifier.ipynb",
      "provenance": [],
      "authorship_tag": "ABX9TyOZOITzmwoYwwUBlrNeaQil",
      "include_colab_link": true
    },
    "kernelspec": {
      "name": "python3",
      "display_name": "Python 3"
    }
  },
  "cells": [
    {
      "cell_type": "markdown",
      "metadata": {
        "id": "view-in-github",
        "colab_type": "text"
      },
      "source": [
        "<a href=\"https://colab.research.google.com/github/Yodeman/dog_breed_classifier/blob/main/dog_classifier.ipynb\" target=\"_parent\"><img src=\"https://colab.research.google.com/assets/colab-badge.svg\" alt=\"Open In Colab\"/></a>"
      ]
    },
    {
      "cell_type": "code",
      "metadata": {
        "id": "KK5H3DxDk3Q5"
      },
      "source": [
        "!pip install voila\r\n",
        "!jupyter serverextension enable --sys-prefix voila"
      ],
      "execution_count": null,
      "outputs": []
    },
    {
      "cell_type": "markdown",
      "metadata": {
        "id": "ctLOsHumk8aJ"
      },
      "source": [
        "# Dog Breed Classifier\r\n",
        "This is a simple dog breed classifier that classifies dogs into my favorites dog breeds .i.e german shepherds, caucasian shepherd and alaskan breeds."
      ]
    },
    {
      "cell_type": "code",
      "metadata": {
        "id": "NjFZ4Db2lWct"
      },
      "source": [
        "btn_upload = widgets.FileUpload()\r\n",
        "btn_run = widgets.Button(description='classify')\r\n",
        "lbl_pred = widgets.Label()\r\n",
        "output = widgets.Output()"
      ],
      "execution_count": null,
      "outputs": []
    },
    {
      "cell_type": "code",
      "metadata": {
        "id": "9HPGHGXhm9ok"
      },
      "source": [
        "def classify(change):\r\n",
        "    img = PILImage.create(btn_upload.data[-1])\r\n",
        "    output.clear_output()\r\n",
        "    with output: display(img.to_thumb(128,128))\r\n",
        "    pred,pred_idx,probs = learn_inf.predict(img)\r\n",
        "    lbl_pred.value = f'Prediction: {pred}; Probability: {probs[pred_idx]:.04f}'\r\n",
        "\r\n",
        "btn_run.on_click(classify)"
      ],
      "execution_count": null,
      "outputs": []
    },
    {
      "cell_type": "code",
      "metadata": {
        "id": "tIhK0A8QnCYM"
      },
      "source": [
        "VBox([widgets.Label('Select your bear!'), \r\n",
        "      btn_upload, btn_run, output, lbl_pred])"
      ],
      "execution_count": null,
      "outputs": []
    },
    {
      "cell_type": "code",
      "metadata": {
        "id": "IFx3pH7gnMK4"
      },
      "source": [
        ""
      ],
      "execution_count": null,
      "outputs": []
    }
  ]
}
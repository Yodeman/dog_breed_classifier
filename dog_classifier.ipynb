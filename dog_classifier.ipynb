{
  "nbformat": 4,
  "nbformat_minor": 0,
  "metadata": {
    "colab": {
      "name": "dog_classifier.ipynb",
      "provenance": [],
      "collapsed_sections": [],
      "toc_visible": true,
      "authorship_tag": "ABX9TyPl+1aiHYaRI6ztXM+35ZEv",
      "include_colab_link": true
    },
    "kernelspec": {
      "name": "python3",
      "display_name": "Python 3"
    },
    "widgets": {
      "application/vnd.jupyter.widget-state+json": {
        "a482963f75e541d19415911606624c8e": {
          "model_module": "@jupyter-widgets/controls",
          "model_name": "VBoxModel",
          "state": {
            "_view_name": "VBoxView",
            "_dom_classes": [],
            "_model_name": "VBoxModel",
            "_view_module": "@jupyter-widgets/controls",
            "_model_module_version": "1.5.0",
            "_view_count": null,
            "_view_module_version": "1.5.0",
            "box_style": "",
            "layout": "IPY_MODEL_11cf1b36fdb94c28adcc385a16dc35a3",
            "_model_module": "@jupyter-widgets/controls",
            "children": [
              "IPY_MODEL_ec111f6f05024b46aa3b3d9a726bcf39",
              "IPY_MODEL_14731dc83abe46c2a741891aa081c6ff",
              "IPY_MODEL_81622de06694421ba8f3ed91c354b67c",
              "IPY_MODEL_1fd5f6ad72a540269441034d2940d22c",
              "IPY_MODEL_41dde52ac5ef4ad2bfdca44fb46bcc21"
            ]
          }
        },
        "11cf1b36fdb94c28adcc385a16dc35a3": {
          "model_module": "@jupyter-widgets/base",
          "model_name": "LayoutModel",
          "state": {
            "_view_name": "LayoutView",
            "grid_template_rows": null,
            "right": null,
            "justify_content": null,
            "_view_module": "@jupyter-widgets/base",
            "overflow": null,
            "_model_module_version": "1.2.0",
            "_view_count": null,
            "flex_flow": null,
            "width": null,
            "min_width": null,
            "border": null,
            "align_items": null,
            "bottom": null,
            "_model_module": "@jupyter-widgets/base",
            "top": null,
            "grid_column": null,
            "overflow_y": null,
            "overflow_x": null,
            "grid_auto_flow": null,
            "grid_area": null,
            "grid_template_columns": null,
            "flex": null,
            "_model_name": "LayoutModel",
            "justify_items": null,
            "grid_row": null,
            "max_height": null,
            "align_content": null,
            "visibility": null,
            "align_self": null,
            "height": null,
            "min_height": null,
            "padding": null,
            "grid_auto_rows": null,
            "grid_gap": null,
            "max_width": null,
            "order": null,
            "_view_module_version": "1.2.0",
            "grid_template_areas": null,
            "object_position": null,
            "object_fit": null,
            "grid_auto_columns": null,
            "margin": null,
            "display": null,
            "left": null
          }
        },
        "ec111f6f05024b46aa3b3d9a726bcf39": {
          "model_module": "@jupyter-widgets/controls",
          "model_name": "LabelModel",
          "state": {
            "_view_name": "LabelView",
            "style": "IPY_MODEL_7fa78d68942b4d128609c28b962ae9a0",
            "_dom_classes": [],
            "description": "",
            "_model_name": "LabelModel",
            "placeholder": "​",
            "_view_module": "@jupyter-widgets/controls",
            "_model_module_version": "1.5.0",
            "value": "Select your bear!",
            "_view_count": null,
            "_view_module_version": "1.5.0",
            "description_tooltip": null,
            "_model_module": "@jupyter-widgets/controls",
            "layout": "IPY_MODEL_db84a40f3cc04ce1a899ed07c42bdb21"
          }
        },
        "14731dc83abe46c2a741891aa081c6ff": {
          "model_module": "@jupyter-widgets/controls",
          "model_name": "FileUploadModel",
          "state": {
            "_view_name": "FileUploadView",
            "_counter": 1,
            "style": "IPY_MODEL_e2c8b686c787446ba9feb67395b0467f",
            "_dom_classes": [],
            "description": "Upload",
            "multiple": false,
            "_model_name": "FileUploadModel",
            "data": [
              null
            ],
            "button_style": "",
            "_view_module": "@jupyter-widgets/controls",
            "_model_module_version": "1.5.0",
            "accept": "",
            "_view_count": null,
            "disabled": false,
            "_view_module_version": "1.5.0",
            "error": "",
            "description_tooltip": null,
            "metadata": [
              {
                "name": "German_shepherd_dog_04885.jpg",
                "type": "image/jpeg",
                "size": 27067,
                "lastModified": 1490646281000
              }
            ],
            "_model_module": "@jupyter-widgets/controls",
            "layout": "IPY_MODEL_eb7bbd2376af47c783889cf456998678",
            "icon": "upload"
          }
        },
        "81622de06694421ba8f3ed91c354b67c": {
          "model_module": "@jupyter-widgets/controls",
          "model_name": "ButtonModel",
          "state": {
            "_view_name": "ButtonView",
            "style": "IPY_MODEL_1de824c783bb46729817883c8d96b26d",
            "_dom_classes": [],
            "description": "classify",
            "_model_name": "ButtonModel",
            "button_style": "",
            "_view_module": "@jupyter-widgets/controls",
            "_model_module_version": "1.5.0",
            "tooltip": "",
            "_view_count": null,
            "disabled": false,
            "_view_module_version": "1.5.0",
            "layout": "IPY_MODEL_84bbf5f80ca241548435a6e809af66fb",
            "_model_module": "@jupyter-widgets/controls",
            "icon": ""
          }
        },
        "1fd5f6ad72a540269441034d2940d22c": {
          "model_module": "@jupyter-widgets/output",
          "model_name": "OutputModel",
          "state": {
            "_view_name": "OutputView",
            "msg_id": "",
            "_dom_classes": [],
            "_model_name": "OutputModel",
            "outputs": [
              {
                "output_type": "display_data",
                "metadata": {
                  "tags": []
                },
                "image/png": "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\n",
                "text/plain": "<PIL.Image.Image image mode=RGB size=126x128 at 0x7F1D0017D400>"
              }
            ],
            "_view_module": "@jupyter-widgets/output",
            "_model_module_version": "1.0.0",
            "_view_count": null,
            "_view_module_version": "1.0.0",
            "layout": "IPY_MODEL_c51cbbcd6e5240faa26b7c12da978672",
            "_model_module": "@jupyter-widgets/output"
          }
        },
        "41dde52ac5ef4ad2bfdca44fb46bcc21": {
          "model_module": "@jupyter-widgets/controls",
          "model_name": "LabelModel",
          "state": {
            "_view_name": "LabelView",
            "style": "IPY_MODEL_57e92b9e2a834fbeaaa722b5bcbd6ac2",
            "_dom_classes": [],
            "description": "",
            "_model_name": "LabelModel",
            "placeholder": "​",
            "_view_module": "@jupyter-widgets/controls",
            "_model_module_version": "1.5.0",
            "value": "Prediction: german; Probability: 0.9998",
            "_view_count": null,
            "_view_module_version": "1.5.0",
            "description_tooltip": null,
            "_model_module": "@jupyter-widgets/controls",
            "layout": "IPY_MODEL_c0a557ade805461199ca7d557271a2c8"
          }
        },
        "7fa78d68942b4d128609c28b962ae9a0": {
          "model_module": "@jupyter-widgets/controls",
          "model_name": "DescriptionStyleModel",
          "state": {
            "_view_name": "StyleView",
            "_model_name": "DescriptionStyleModel",
            "description_width": "",
            "_view_module": "@jupyter-widgets/base",
            "_model_module_version": "1.5.0",
            "_view_count": null,
            "_view_module_version": "1.2.0",
            "_model_module": "@jupyter-widgets/controls"
          }
        },
        "db84a40f3cc04ce1a899ed07c42bdb21": {
          "model_module": "@jupyter-widgets/base",
          "model_name": "LayoutModel",
          "state": {
            "_view_name": "LayoutView",
            "grid_template_rows": null,
            "right": null,
            "justify_content": null,
            "_view_module": "@jupyter-widgets/base",
            "overflow": null,
            "_model_module_version": "1.2.0",
            "_view_count": null,
            "flex_flow": null,
            "width": null,
            "min_width": null,
            "border": null,
            "align_items": null,
            "bottom": null,
            "_model_module": "@jupyter-widgets/base",
            "top": null,
            "grid_column": null,
            "overflow_y": null,
            "overflow_x": null,
            "grid_auto_flow": null,
            "grid_area": null,
            "grid_template_columns": null,
            "flex": null,
            "_model_name": "LayoutModel",
            "justify_items": null,
            "grid_row": null,
            "max_height": null,
            "align_content": null,
            "visibility": null,
            "align_self": null,
            "height": null,
            "min_height": null,
            "padding": null,
            "grid_auto_rows": null,
            "grid_gap": null,
            "max_width": null,
            "order": null,
            "_view_module_version": "1.2.0",
            "grid_template_areas": null,
            "object_position": null,
            "object_fit": null,
            "grid_auto_columns": null,
            "margin": null,
            "display": null,
            "left": null
          }
        },
        "e2c8b686c787446ba9feb67395b0467f": {
          "model_module": "@jupyter-widgets/controls",
          "model_name": "ButtonStyleModel",
          "state": {
            "_view_name": "StyleView",
            "_model_name": "ButtonStyleModel",
            "_view_module": "@jupyter-widgets/base",
            "_model_module_version": "1.5.0",
            "_view_count": null,
            "button_color": null,
            "font_weight": "",
            "_view_module_version": "1.2.0",
            "_model_module": "@jupyter-widgets/controls"
          }
        },
        "eb7bbd2376af47c783889cf456998678": {
          "model_module": "@jupyter-widgets/base",
          "model_name": "LayoutModel",
          "state": {
            "_view_name": "LayoutView",
            "grid_template_rows": null,
            "right": null,
            "justify_content": null,
            "_view_module": "@jupyter-widgets/base",
            "overflow": null,
            "_model_module_version": "1.2.0",
            "_view_count": null,
            "flex_flow": null,
            "width": null,
            "min_width": null,
            "border": null,
            "align_items": null,
            "bottom": null,
            "_model_module": "@jupyter-widgets/base",
            "top": null,
            "grid_column": null,
            "overflow_y": null,
            "overflow_x": null,
            "grid_auto_flow": null,
            "grid_area": null,
            "grid_template_columns": null,
            "flex": null,
            "_model_name": "LayoutModel",
            "justify_items": null,
            "grid_row": null,
            "max_height": null,
            "align_content": null,
            "visibility": null,
            "align_self": null,
            "height": null,
            "min_height": null,
            "padding": null,
            "grid_auto_rows": null,
            "grid_gap": null,
            "max_width": null,
            "order": null,
            "_view_module_version": "1.2.0",
            "grid_template_areas": null,
            "object_position": null,
            "object_fit": null,
            "grid_auto_columns": null,
            "margin": null,
            "display": null,
            "left": null
          }
        },
        "1de824c783bb46729817883c8d96b26d": {
          "model_module": "@jupyter-widgets/controls",
          "model_name": "ButtonStyleModel",
          "state": {
            "_view_name": "StyleView",
            "_model_name": "ButtonStyleModel",
            "_view_module": "@jupyter-widgets/base",
            "_model_module_version": "1.5.0",
            "_view_count": null,
            "button_color": null,
            "font_weight": "",
            "_view_module_version": "1.2.0",
            "_model_module": "@jupyter-widgets/controls"
          }
        },
        "84bbf5f80ca241548435a6e809af66fb": {
          "model_module": "@jupyter-widgets/base",
          "model_name": "LayoutModel",
          "state": {
            "_view_name": "LayoutView",
            "grid_template_rows": null,
            "right": null,
            "justify_content": null,
            "_view_module": "@jupyter-widgets/base",
            "overflow": null,
            "_model_module_version": "1.2.0",
            "_view_count": null,
            "flex_flow": null,
            "width": null,
            "min_width": null,
            "border": null,
            "align_items": null,
            "bottom": null,
            "_model_module": "@jupyter-widgets/base",
            "top": null,
            "grid_column": null,
            "overflow_y": null,
            "overflow_x": null,
            "grid_auto_flow": null,
            "grid_area": null,
            "grid_template_columns": null,
            "flex": null,
            "_model_name": "LayoutModel",
            "justify_items": null,
            "grid_row": null,
            "max_height": null,
            "align_content": null,
            "visibility": null,
            "align_self": null,
            "height": null,
            "min_height": null,
            "padding": null,
            "grid_auto_rows": null,
            "grid_gap": null,
            "max_width": null,
            "order": null,
            "_view_module_version": "1.2.0",
            "grid_template_areas": null,
            "object_position": null,
            "object_fit": null,
            "grid_auto_columns": null,
            "margin": null,
            "display": null,
            "left": null
          }
        },
        "57e92b9e2a834fbeaaa722b5bcbd6ac2": {
          "model_module": "@jupyter-widgets/controls",
          "model_name": "DescriptionStyleModel",
          "state": {
            "_view_name": "StyleView",
            "_model_name": "DescriptionStyleModel",
            "description_width": "",
            "_view_module": "@jupyter-widgets/base",
            "_model_module_version": "1.5.0",
            "_view_count": null,
            "_view_module_version": "1.2.0",
            "_model_module": "@jupyter-widgets/controls"
          }
        },
        "c0a557ade805461199ca7d557271a2c8": {
          "model_module": "@jupyter-widgets/base",
          "model_name": "LayoutModel",
          "state": {
            "_view_name": "LayoutView",
            "grid_template_rows": null,
            "right": null,
            "justify_content": null,
            "_view_module": "@jupyter-widgets/base",
            "overflow": null,
            "_model_module_version": "1.2.0",
            "_view_count": null,
            "flex_flow": null,
            "width": null,
            "min_width": null,
            "border": null,
            "align_items": null,
            "bottom": null,
            "_model_module": "@jupyter-widgets/base",
            "top": null,
            "grid_column": null,
            "overflow_y": null,
            "overflow_x": null,
            "grid_auto_flow": null,
            "grid_area": null,
            "grid_template_columns": null,
            "flex": null,
            "_model_name": "LayoutModel",
            "justify_items": null,
            "grid_row": null,
            "max_height": null,
            "align_content": null,
            "visibility": null,
            "align_self": null,
            "height": null,
            "min_height": null,
            "padding": null,
            "grid_auto_rows": null,
            "grid_gap": null,
            "max_width": null,
            "order": null,
            "_view_module_version": "1.2.0",
            "grid_template_areas": null,
            "object_position": null,
            "object_fit": null,
            "grid_auto_columns": null,
            "margin": null,
            "display": null,
            "left": null
          }
        },
        "c51cbbcd6e5240faa26b7c12da978672": {
          "model_module": "@jupyter-widgets/base",
          "model_name": "LayoutModel",
          "state": {
            "_view_name": "LayoutView",
            "grid_template_rows": null,
            "right": null,
            "justify_content": null,
            "_view_module": "@jupyter-widgets/base",
            "overflow": null,
            "_model_module_version": "1.2.0",
            "_view_count": null,
            "flex_flow": null,
            "width": null,
            "min_width": null,
            "border": null,
            "align_items": null,
            "bottom": null,
            "_model_module": "@jupyter-widgets/base",
            "top": null,
            "grid_column": null,
            "overflow_y": null,
            "overflow_x": null,
            "grid_auto_flow": null,
            "grid_area": null,
            "grid_template_columns": null,
            "flex": null,
            "_model_name": "LayoutModel",
            "justify_items": null,
            "grid_row": null,
            "max_height": null,
            "align_content": null,
            "visibility": null,
            "align_self": null,
            "height": null,
            "min_height": null,
            "padding": null,
            "grid_auto_rows": null,
            "grid_gap": null,
            "max_width": null,
            "order": null,
            "_view_module_version": "1.2.0",
            "grid_template_areas": null,
            "object_position": null,
            "object_fit": null,
            "grid_auto_columns": null,
            "margin": null,
            "display": null,
            "left": null
          }
        }
      }
    }
  },
  "cells": [
    {
      "cell_type": "markdown",
      "metadata": {
        "id": "view-in-github",
        "colab_type": "text"
      },
      "source": [
        "<a href=\"https://colab.research.google.com/github/Yodeman/dog_breed_classifier/blob/main/dog_classifier.ipynb\" target=\"_parent\"><img src=\"https://colab.research.google.com/assets/colab-badge.svg\" alt=\"Open In Colab\"/></a>"
      ]
    },
    {
      "cell_type": "code",
      "metadata": {
        "id": "QXZ4xjpSyPOb"
      },
      "source": [
        "!pip install -Uqq fastbook\r\n",
        "import fastbook\r\n",
        "fastbook.setup_book()"
      ],
      "execution_count": null,
      "outputs": []
    },
    {
      "cell_type": "code",
      "metadata": {
        "id": "XjkidUlJyy8t"
      },
      "source": [
        "from fastbook import *"
      ],
      "execution_count": 3,
      "outputs": []
    },
    {
      "cell_type": "code",
      "metadata": {
        "id": "TqyFiyEQsmMR"
      },
      "source": [
        "!pip install ipywidgets\r\n",
        "!jupyter nbextension enable --py widgetsnbextension"
      ],
      "execution_count": null,
      "outputs": []
    },
    {
      "cell_type": "code",
      "metadata": {
        "id": "BpcrBRAhtHHM"
      },
      "source": [
        "from IPython.display import display\r\n",
        "from ipywidgets import widgets, interactive, VBox"
      ],
      "execution_count": 12,
      "outputs": []
    },
    {
      "cell_type": "markdown",
      "metadata": {
        "id": "ctLOsHumk8aJ"
      },
      "source": [
        "# Dog Breed Classifier\r\n",
        "This is a simple dog breed classifier that classifies dogs into my favorites dog breeds .i.e german shepherds, caucasian shepherd and alaskan breeds."
      ]
    },
    {
      "cell_type": "code",
      "metadata": {
        "id": "NjFZ4Db2lWct"
      },
      "source": [
        "btn_upload = widgets.FileUpload()\r\n",
        "btn_run = widgets.Button(description='classify')\r\n",
        "lbl_pred = widgets.Label()\r\n",
        "output = widgets.Output()"
      ],
      "execution_count": 13,
      "outputs": []
    },
    {
      "cell_type": "code",
      "metadata": {
        "id": "TPayA6kszHVA"
      },
      "source": [
        "learn_inf = load_learner(\r\n",
        "     path/'gdrive/My Drive/fastai-v3/models/dog/model_dog.pkl'\r\n",
        ")"
      ],
      "execution_count": 10,
      "outputs": []
    },
    {
      "cell_type": "code",
      "metadata": {
        "id": "9HPGHGXhm9ok"
      },
      "source": [
        "def classify(change):\r\n",
        "    img = PILImage.create(btn_upload.data[-1])\r\n",
        "    output.clear_output()\r\n",
        "    with output: display(img.to_thumb(128,128))\r\n",
        "    pred,pred_idx,probs = learn_inf.predict(img)\r\n",
        "    lbl_pred.value = f'Prediction: {pred}; Probability: {probs[pred_idx]:.04f}'\r\n",
        "\r\n",
        "btn_run.on_click(classify)"
      ],
      "execution_count": 14,
      "outputs": []
    },
    {
      "cell_type": "code",
      "metadata": {
        "colab": {
          "base_uri": "https://localhost:8080/",
          "height": 272,
          "referenced_widgets": [
            "a482963f75e541d19415911606624c8e",
            "11cf1b36fdb94c28adcc385a16dc35a3",
            "ec111f6f05024b46aa3b3d9a726bcf39",
            "14731dc83abe46c2a741891aa081c6ff",
            "81622de06694421ba8f3ed91c354b67c",
            "1fd5f6ad72a540269441034d2940d22c",
            "41dde52ac5ef4ad2bfdca44fb46bcc21",
            "7fa78d68942b4d128609c28b962ae9a0",
            "db84a40f3cc04ce1a899ed07c42bdb21",
            "e2c8b686c787446ba9feb67395b0467f",
            "eb7bbd2376af47c783889cf456998678",
            "1de824c783bb46729817883c8d96b26d",
            "84bbf5f80ca241548435a6e809af66fb",
            "57e92b9e2a834fbeaaa722b5bcbd6ac2",
            "c0a557ade805461199ca7d557271a2c8",
            "c51cbbcd6e5240faa26b7c12da978672"
          ]
        },
        "id": "tIhK0A8QnCYM",
        "outputId": "d057a6a1-1d13-4674-9688-0a556af3c664"
      },
      "source": [
        "VBox([widgets.Label('Select your bear!'), \r\n",
        "      btn_upload, btn_run, output, lbl_pred])"
      ],
      "execution_count": 15,
      "outputs": [
        {
          "output_type": "display_data",
          "data": {
            "application/vnd.jupyter.widget-view+json": {
              "model_id": "a482963f75e541d19415911606624c8e",
              "version_minor": 0,
              "version_major": 2
            },
            "text/plain": [
              "VBox(children=(Label(value='Select your bear!'), FileUpload(value={}, description='Upload'), Button(descriptio…"
            ]
          },
          "metadata": {
            "tags": []
          }
        },
        {
          "output_type": "display_data",
          "data": {
            "text/html": [
              ""
            ],
            "text/plain": [
              "<IPython.core.display.HTML object>"
            ]
          },
          "metadata": {
            "tags": []
          }
        }
      ]
    },
    {
      "cell_type": "code",
      "metadata": {
        "id": "IFx3pH7gnMK4"
      },
      "source": [
        ""
      ],
      "execution_count": 17,
      "outputs": []
    },
    {
      "cell_type": "code",
      "metadata": {
        "id": "kh1PN_Z27kST"
      },
      "source": [
        ""
      ],
      "execution_count": 9,
      "outputs": []
    },
    {
      "cell_type": "code",
      "metadata": {
        "id": "of78oMmh7-sJ"
      },
      "source": [
        ""
      ],
      "execution_count": null,
      "outputs": []
    }
  ]
}